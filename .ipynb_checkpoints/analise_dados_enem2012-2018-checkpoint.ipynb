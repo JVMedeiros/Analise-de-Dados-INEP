{
 "cells": [
  {
   "cell_type": "code",
   "execution_count": 11,
   "metadata": {},
   "outputs": [],
   "source": [
    "#Dando import nas bibliotecas\n",
    "import pandas as pd\n",
    "import matplotlib.pyplot as plt"
   ]
  },
  {
   "cell_type": "code",
   "execution_count": 12,
   "metadata": {},
   "outputs": [],
   "source": [
    "#Declarando as variáveis\n",
    "d = './Dados/'\n",
    "pN = 'MICRODADOS_ENEM_' \n",
    "anos = ['2012', '2013', '2014', '2015', '2016', '2017', '2018'] \n",
    "e = '.csv'\n",
    "dados = []"
   ]
  },
  {
   "cell_type": "code",
   "execution_count": 1,
   "metadata": {},
   "outputs": [
    {
     "ename": "SyntaxError",
     "evalue": "invalid syntax (<ipython-input-1-e9b80ced7c13>, line 6)",
     "output_type": "error",
     "traceback": [
      "\u001b[0;36m  File \u001b[0;32m\"<ipython-input-1-e9b80ced7c13>\"\u001b[0;36m, line \u001b[0;32m6\u001b[0m\n\u001b[0;31m    dados.append(df.query('(IN_DEFICIENCIA_AUDITIVA == 1 or IN_DEFICIENCIA_FISICA == 1)').count.())\u001b[0m\n\u001b[0m                                                                                                ^\u001b[0m\n\u001b[0;31mSyntaxError\u001b[0m\u001b[0;31m:\u001b[0m invalid syntax\n"
     ]
    }
   ],
   "source": [
    "#criação do Data Frame e Leitura dos arquivos, contando os dados e armazená-los nas respectivas listas\n",
    "#Compararemos o aumento das inscrições normais x inscrições especiais (deficiencia fisica e auditiva )\n",
    "for ano in anos:\n",
    "    df = pd.read_csv(d+pN+ano+e, usecols=['IN_DEFICIENCIA_AUDITIVA', 'IN_DEFICIENCIA_FISICA'], delimiter = ',', encoding = 'iso-8859-1')\n",
    "    #contabilização e consolidação das informações - Geral\n",
    "    dados.append(df.query('(IN_DEFICIENCIA_AUDITIVA == 1 or IN_DEFICIENCIA_FISICA == 1)').count())"
   ]
  },
  {
   "cell_type": "code",
   "execution_count": null,
   "metadata": {},
   "outputs": [],
   "source": []
  }
 ],
 "metadata": {
  "kernelspec": {
   "display_name": "Python 3",
   "language": "python",
   "name": "python3"
  },
  "language_info": {
   "codemirror_mode": {
    "name": "ipython",
    "version": 3
   },
   "file_extension": ".py",
   "mimetype": "text/x-python",
   "name": "python",
   "nbconvert_exporter": "python",
   "pygments_lexer": "ipython3",
   "version": "3.6.8"
  }
 },
 "nbformat": 4,
 "nbformat_minor": 2
}
